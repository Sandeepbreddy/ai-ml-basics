{
 "cells": [
  {
   "cell_type": "code",
   "execution_count": 8,
   "id": "6c4b3c14",
   "metadata": {},
   "outputs": [],
   "source": [
    "import pandas as pd\n",
    "import numpy as np\n",
    "import string"
   ]
  },
  {
   "cell_type": "code",
   "execution_count": 9,
   "id": "08cf5c0b",
   "metadata": {},
   "outputs": [
    {
     "name": "stdout",
     "output_type": "stream",
     "text": [
      "(72311, 5)\n"
     ]
    }
   ],
   "source": [
    "data = pd.read_csv('AmazonMobileDataUncleaned.csv', encoding = \"ISO-8859-1\");\n",
    "\n",
    "print(data.shape)"
   ]
  },
  {
   "cell_type": "code",
   "execution_count": 11,
   "id": "74fb5259",
   "metadata": {},
   "outputs": [],
   "source": [
    "def removePunctuation(text):\n",
    "    p = set(string.punctuation)\n",
    "    text = text.lower()\n",
    "    words = text.split()\n",
    "    ctext=[]\n",
    "    for i in range(10):\n",
    "        p.add(str(i))\n",
    "    for i in words:\n",
    "        t=''.join([x for x in i.encode(\"ascii\",\"ignore\").decode(\"ascii\") if x not in p])\n",
    "        ctext.append(t)\n",
    "    return \" \".join([i for i in ctext]) \n",
    "\n",
    "\n",
    "\n",
    "\n"
   ]
  },
  {
   "cell_type": "code",
   "execution_count": 12,
   "id": "5541bf4a",
   "metadata": {},
   "outputs": [],
   "source": [
    "\n",
    "uncleanData = [i for i in data.uncleanedreview]\n",
    "cleanData = []\n",
    "for i in uncleanData:\n",
    "    try:\n",
    "        txt=removePunctuation(i)\n",
    "        if len(txt)==0: raise()\n",
    "        cleanData.append(txt)\n",
    "    except:\n",
    "        cleanData.append(\"NaN\")\n",
    "data['cleanedText'] = cleanData\n",
    "\n",
    "data.to_csv(r'AmazonMobileDataUncleaned.csv')"
   ]
  },
  {
   "cell_type": "code",
   "execution_count": 13,
   "id": "0c00d86a",
   "metadata": {},
   "outputs": [
    {
     "name": "stdout",
     "output_type": "stream",
     "text": [
      "(72311, 7)\n"
     ]
    }
   ],
   "source": [
    "data=pd.read_csv('AmazonMobileDataUncleaned.csv')\n",
    "data.drop(data[data[\"cleanedText\"] == \"NaN\"].index,axis=0,inplace=True);\n",
    "data=data.reset_index(drop='true')\n",
    "print(data.shape)\n",
    "data.to_csv(r'AmazonMobileDataUncleaned.csv')"
   ]
  }
 ],
 "metadata": {
  "kernelspec": {
   "display_name": "anacenv",
   "language": "python",
   "name": "python3"
  },
  "language_info": {
   "codemirror_mode": {
    "name": "ipython",
    "version": 3
   },
   "file_extension": ".py",
   "mimetype": "text/x-python",
   "name": "python",
   "nbconvert_exporter": "python",
   "pygments_lexer": "ipython3",
   "version": "3.9.6"
  }
 },
 "nbformat": 4,
 "nbformat_minor": 5
}
