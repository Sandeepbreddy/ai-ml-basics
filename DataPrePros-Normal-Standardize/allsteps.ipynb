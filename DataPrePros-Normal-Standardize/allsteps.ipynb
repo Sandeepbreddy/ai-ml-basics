{
 "cells": [
  {
   "cell_type": "code",
   "execution_count": 4,
   "id": "d4d15599",
   "metadata": {},
   "outputs": [
    {
     "name": "stdout",
     "output_type": "stream",
     "text": [
      "[[0.   0.  ]\n",
      " [0.25 0.25]\n",
      " [0.5  0.5 ]\n",
      " [1.   1.  ]]\n"
     ]
    }
   ],
   "source": [
    "from sklearn.preprocessing import MinMaxScaler\n",
    "\n",
    "data = [[-1,2],[-0.5,6],[0,10],[1,18]]\n",
    "\n",
    "scaler = MinMaxScaler()\n",
    "scaler.fit(data)\n",
    "print(scaler.transform(data))"
   ]
  },
  {
   "cell_type": "code",
   "execution_count": 3,
   "id": "426966b4",
   "metadata": {},
   "outputs": [
    {
     "name": "stdout",
     "output_type": "stream",
     "text": [
      "[[0.8 0.2 0.4 0.4]\n",
      " [0.1 0.3 0.9 0.3]\n",
      " [0.5 0.7 0.5 0.1]]\n"
     ]
    }
   ],
   "source": [
    "from sklearn.preprocessing import Normalizer\n",
    "\n",
    "data = [[4,1,2,2],[1,3,9,3],[5,7,5,1]]\n",
    "\n",
    "\n",
    "t = Normalizer().fit(data)\n",
    "print(t.transform(data))"
   ]
  },
  {
   "cell_type": "code",
   "execution_count": 2,
   "id": "16641f49",
   "metadata": {},
   "outputs": [
    {
     "name": "stdout",
     "output_type": "stream",
     "text": [
      "[[-1.         -1.34164079]\n",
      " [-1.         -0.4472136 ]\n",
      " [ 1.          0.4472136 ]\n",
      " [ 1.          1.34164079]]\n"
     ]
    }
   ],
   "source": [
    "from sklearn.preprocessing import StandardScaler\n",
    "\n",
    "data = [[0,61],[0,62],[1,63],[1,64]]\n",
    "\n",
    "s = StandardScaler()\n",
    "s.fit(data)\n",
    "print(s.transform(data))"
   ]
  }
 ],
 "metadata": {
  "kernelspec": {
   "display_name": "anacenv",
   "language": "python",
   "name": "python3"
  },
  "language_info": {
   "codemirror_mode": {
    "name": "ipython",
    "version": 3
   },
   "file_extension": ".py",
   "mimetype": "text/x-python",
   "name": "python",
   "nbconvert_exporter": "python",
   "pygments_lexer": "ipython3",
   "version": "3.9.6"
  }
 },
 "nbformat": 4,
 "nbformat_minor": 5
}
