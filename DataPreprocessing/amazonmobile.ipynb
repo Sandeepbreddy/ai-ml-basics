{
 "cells": [
  {
   "cell_type": "code",
   "execution_count": 20,
   "metadata": {},
   "outputs": [
    {
     "name": "stderr",
     "output_type": "stream",
     "text": [
      "[nltk_data] Downloading package stopwords to /Users/boda/nltk_data...\n",
      "[nltk_data]   Unzipping corpora/stopwords.zip.\n"
     ]
    },
    {
     "data": {
      "text/plain": [
       "True"
      ]
     },
     "execution_count": 20,
     "metadata": {},
     "output_type": "execute_result"
    }
   ],
   "source": [
    "import pandas as pd\n",
    "import re\n",
    "from nltk.corpus import stopwords\n",
    "import string\n",
    "from nltk.stem.snowball import SnowballStemmer\n",
    "import nltk as nl\n",
    "\n",
    "nl.download('stopwords')"
   ]
  },
  {
   "cell_type": "code",
   "execution_count": 21,
   "metadata": {},
   "outputs": [
    {
     "name": "stdout",
     "output_type": "stream",
     "text": [
      "(71922, 2)\n"
     ]
    }
   ],
   "source": [
    "# Reading the data file into a DATAFRAME and checking the shape \n",
    "data=pd.read_csv('AmazonMobileDataUncleaned.csv')\n",
    "print(data.shape)"
   ]
  },
  {
   "cell_type": "code",
   "execution_count": 22,
   "metadata": {},
   "outputs": [
    {
     "name": "stdout",
     "output_type": "stream",
     "text": [
      "{'herself', \"that'll\", 'needn', 'mustn', 'few', 've', 'an', 'both', 'its', 'own', 'then', 'yourself', 'out', 'those', \"he'll\", 'before', \"didn't\", 'with', 'm', 'our', \"wouldn't\", \"aren't\", 'll', 'above', 'weren', 'had', 'how', \"they'd\", 'will', 'his', 'should', 'again', 'to', 'there', 'under', 'are', 'over', \"it's\", 'each', 'about', \"it'd\", \"mightn't\", 'him', \"needn't\", \"shan't\", \"he'd\", 'such', 'as', \"you're\", 'what', \"isn't\", 'after', \"should've\", 'be', 're', 'just', 'yourselves', \"we'll\", 'the', \"it'll\", 'me', 'further', 'same', 'myself', 'them', 'from', \"you'll\", \"haven't\", 'only', 'why', 'on', 'shouldn', 'you', \"couldn't\", \"hadn't\", 'it', 'does', \"i've\", 'do', 'aren', 'up', 'until', \"we're\", \"they'll\", 'ain', 'o', 'but', 'don', 'y', \"we'd\", 'into', 'they', \"i'd\", 'she', 'by', 'most', 'than', 'isn', 'himself', \"hasn't\", 'mightn', 'is', \"they've\", 'wasn', \"you've\", 'some', 'he', 'through', 'where', \"wasn't\", \"they're\", 'all', 'their', 's', 'hers', \"don't\", 'has', 'doing', 'who', 'here', 'against', 'and', 'down', 't', \"mustn't\", \"she'll\", \"she's\", 'these', 'too', \"we've\", 'hadn', 'am', 'whom', \"i'm\", 'been', \"she'd\", 'in', 'being', 'of', 'was', 'd', 'my', 'below', 'between', 'theirs', 'more', 'your', 'can', 'were', \"doesn't\", \"weren't\", \"i'll\", 'very', 'shan', 'didn', \"shouldn't\", \"you'd\", 'so', 'won', 'when', 'now', 'wouldn', 'have', 'we', 'because', 'having', 'no', 'ourselves', \"he's\", 'during', 'ours', 'while', 'that', 'themselves', 'if', 'nor', 'itself', 'once', 'hasn', 'or', 'ma', 'off', 'any', 'a', 'doesn', 'other', 'did', 'haven', 'couldn', \"won't\", 'i', 'this', 'yours', 'for', 'at', 'her', 'which', 'not'}\n"
     ]
    },
    {
     "name": "stderr",
     "output_type": "stream",
     "text": [
      "/var/folders/0p/wyfyjj_94yv7kd73x6j_gc9c0000gn/T/ipykernel_92767/3675075140.py:50: FutureWarning: Downcasting behavior in `replace` is deprecated and will be removed in a future version. To retain the old behavior, explicitly call `result.infer_objects(copy=False)`. To opt-in to the future behavior, set `pd.set_option('future.no_silent_downcasting', True)`\n",
      "  data['decision']= data['decision'].replace('negative',0)\n"
     ]
    }
   ],
   "source": [
    "def datapreprocess(sen):\n",
    "    \n",
    "    sen = re.sub(r\"didn't\", \"did not\", sen)\n",
    "    sen = re.sub(r\"don't\", \"do not\", sen)\n",
    "    sen = re.sub(r\"won't\", \"will not\", sen)\n",
    "    sen = re.sub(r\"can't\", \"can not\", sen)\n",
    "    sen = re.sub(r\"wasn't\", \"was not\", sen)\n",
    "    sen = re.sub(r\"\\'ve\", \" have\", sen)\n",
    "    sen = re.sub(r\"\\'m\", \" am\", sen)\n",
    "    sen = re.sub(r\"\\'ll\", \" will\", sen)\n",
    "    sen = re.sub(r\"\\'re\", \" are\", sen)\n",
    "    sen = re.sub(r\"\\'s\", \" is\", sen)\n",
    "    sen = re.sub(r\"\\'d\", \" would\", sen)\n",
    "    sen = re.sub(r\"\\'t\", \" not\", sen)\n",
    "    sen = re.sub(r\"\\'m\", \" am\", sen)\n",
    "    \n",
    "    \n",
    "    p = set(string.punctuation) # p take all the punctuations, punctuations displayed below\n",
    "    sen=sen.lower() # convert text to lower case\n",
    "    words=sen.split() # split the text into words\n",
    "    ctext=[]\n",
    "    for i in range(10): #adding numbers from 0 - 9 to p \n",
    "        p.add(str(i))\n",
    "    for i in words:\n",
    "        t=''.join([x for x in i.encode(\"ascii\",\"ignore\").decode(\"ascii\") if x not in p]) # ignoring non ascii charecters and numbers\n",
    "        ctext.append(t)\n",
    "    return \" \".join([i for i in ctext]) # joining the cleaned words to text\n",
    "    \n",
    "    \n",
    "\n",
    "stop=set(stopwords.words('english'))\n",
    "print(stop)\n",
    "stop.remove('no')\n",
    "stop.remove('not')\n",
    "stop.remove('nor')\n",
    "\n",
    "preprocessed_essays = []\n",
    "for sentance in data['uncleanedreview'].values:\n",
    "    try:\n",
    "        ctxt=datapreprocess(str(sentance))\n",
    "        if len(ctxt)==0: raise()\n",
    "        ctxt = ' '.join(e for e in ctxt.split() if e not in stop)\n",
    "        preprocessed_essays.append(ctxt.lower().strip())\n",
    "    except:\n",
    "        preprocessed_essays.append(\"NAN\")  \n",
    "data['cleanedtext'] = preprocessed_essays\n",
    "data.drop(data[data[\"cleanedtext\"]==\"NAN\"].index,axis = 0,inplace = True) # deleting rows that have no text \n",
    "data=data.reset_index(drop='true') # after deleting rows index should be reset\n",
    "data['decision']= data['decision'].replace('positive',1)\n",
    "data['decision']= data['decision'].replace('negative',0)\n",
    "\n",
    "\n",
    "s = SnowballStemmer(\"english\")\n",
    "p=[]\n",
    "for i in data['cleanedtext'].values:\n",
    "    k=[]\n",
    "    for word in i.split():\n",
    "        k.append(s.stem(word))\n",
    "    l=' '.join(k)\n",
    "    p.append(l)\n",
    "\n",
    "data['finaltext']=p\n",
    "\n",
    "data.to_csv (r'AmazonMobileDataCleaned.csv')"
   ]
  },
  {
   "cell_type": "code",
   "execution_count": null,
   "metadata": {},
   "outputs": [
    {
     "name": "stdout",
     "output_type": "stream",
     "text": [
      "(46029, 4)\n",
      "(11508, 4)\n",
      "(14385, 4)\n",
      "(46029,)\n",
      "(11508,)\n",
      "(14385,)\n"
     ]
    }
   ],
   "source": [
    "data=pd.read_csv('AmazonMobileDataCleaned.csv')\n",
    "\n",
    "label = data['decision'].values\n",
    "feedback = data.drop(['decision'], axis=1)\n",
    "\n",
    "\n",
    "from sklearn.model_selection import train_test_split\n",
    "inputtrain, inputtest, outputtrain, outputtest = train_test_split(feedback, label, test_size=0.20, stratify=label)\n",
    "inputtrain, inputcv, outputtrain, outputcv = train_test_split(inputtrain, outputtrain, test_size=0.20, stratify=outputtrain)\n",
    "print(inputtrain.shape)\n",
    "print(inputcv.shape)\n",
    "print(inputtest.shape)\n",
    "print(outputtrain.shape)\n",
    "print(outputcv.shape)\n",
    "print(outputtest.shape)"
   ]
  },
  {
   "cell_type": "code",
   "execution_count": 24,
   "metadata": {},
   "outputs": [
    {
     "name": "stdout",
     "output_type": "stream",
     "text": [
      "After vectorizations\n",
      "(46029, 24363)\n",
      "(11508, 24363)\n",
      "(14385, 24363)\n",
      "(46029,)\n",
      "(11508,)\n",
      "(14385,)\n",
      "...............................\n"
     ]
    }
   ],
   "source": [
    "from sklearn.feature_extraction.text import CountVectorizer\n",
    "vec = CountVectorizer(min_df=10,ngram_range=(1,4))\n",
    "vec.fit(inputtrain['finaltext'].values) # fit has to happen only on train data\n",
    "\n",
    "\n",
    "train_cleanedtext = vec.transform(inputtrain['finaltext'].values)\n",
    "cv_cleanedtext = vec.transform(inputcv['finaltext'].values)\n",
    "test_cleanedtext= vec.transform(inputtest['finaltext'].values)\n",
    "\n",
    "print(\"After vectorizations\")\n",
    "print(train_cleanedtext.shape)\n",
    "print(cv_cleanedtext.shape)\n",
    "print(test_cleanedtext.shape)\n",
    "print(outputtrain.shape)\n",
    "print(outputcv.shape)\n",
    "print(outputtest.shape)\n",
    "print(\"...............................\")"
   ]
  },
  {
   "cell_type": "code",
   "execution_count": null,
   "metadata": {},
   "outputs": [],
   "source": []
  },
  {
   "cell_type": "code",
   "execution_count": null,
   "metadata": {},
   "outputs": [],
   "source": []
  }
 ],
 "metadata": {
  "kernelspec": {
   "display_name": "anacenv",
   "language": "python",
   "name": "python3"
  },
  "language_info": {
   "codemirror_mode": {
    "name": "ipython",
    "version": 3
   },
   "file_extension": ".py",
   "mimetype": "text/x-python",
   "name": "python",
   "nbconvert_exporter": "python",
   "pygments_lexer": "ipython3",
   "version": "3.9.6"
  }
 },
 "nbformat": 4,
 "nbformat_minor": 2
}
