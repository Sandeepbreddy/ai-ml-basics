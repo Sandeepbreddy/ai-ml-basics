{
 "cells": [
  {
   "cell_type": "code",
   "execution_count": 4,
   "id": "437be909",
   "metadata": {},
   "outputs": [
    {
     "name": "stdout",
     "output_type": "stream",
     "text": [
      "{'house-size': [1200, 1300, 1250, 1400, 1100], 'location': ['Bombay', 'Delhi', 'chennai', 'Bombay', 'Delhi']}\n",
      "   house-size location\n",
      "0        1200   Bombay\n",
      "1        1300    Delhi\n",
      "2        1250  chennai\n",
      "3        1400   Bombay\n",
      "4        1100    Delhi\n",
      "  (np.int32(0), np.int32(0))\t1\n",
      "  (np.int32(1), np.int32(2))\t1\n",
      "  (np.int32(2), np.int32(1))\t1\n",
      "  (np.int32(3), np.int32(0))\t1\n",
      "  (np.int32(4), np.int32(2))\t1\n",
      "['bombay' 'chennai' 'delhi']\n",
      "[[1 0 0]\n",
      " [0 0 1]\n",
      " [0 1 0]\n",
      " [1 0 0]\n",
      " [0 0 1]]\n"
     ]
    }
   ],
   "source": [
    "import pandas as pd\n",
    "\n",
    "data = {\"house-size\": [1200,1300,1250,1400,1100],\n",
    "        \"location\": ['Bombay', 'Delhi', 'chennai', 'Bombay', 'Delhi']}\n",
    "\n",
    "print(data)\n",
    "my_df=pd.DataFrame(data)\n",
    "\n",
    "print(my_df)\n",
    "\n",
    "from sklearn.feature_extraction.text import CountVectorizer\n",
    "vectorizer = CountVectorizer()\n",
    "vectorizer.fit(my_df['location'].values)\n",
    "x=vectorizer.transform(my_df['location'].values)\n",
    "print(x)\n",
    "print(vectorizer.get_feature_names_out())\n",
    "print(x.toarray())"
   ]
  },
  {
   "cell_type": "code",
   "execution_count": null,
   "id": "5486ea8e",
   "metadata": {},
   "outputs": [],
   "source": []
  }
 ],
 "metadata": {
  "kernelspec": {
   "display_name": "anacenv",
   "language": "python",
   "name": "python3"
  },
  "language_info": {
   "codemirror_mode": {
    "name": "ipython",
    "version": 3
   },
   "file_extension": ".py",
   "mimetype": "text/x-python",
   "name": "python",
   "nbconvert_exporter": "python",
   "pygments_lexer": "ipython3",
   "version": "3.9.6"
  }
 },
 "nbformat": 4,
 "nbformat_minor": 5
}
