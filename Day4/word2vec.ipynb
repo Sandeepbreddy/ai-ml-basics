{
 "cells": [
  {
   "cell_type": "code",
   "execution_count": 20,
   "metadata": {},
   "outputs": [
    {
     "name": "stdout",
     "output_type": "stream",
     "text": [
      "[-0.047320068, 0.28842866]\n"
     ]
    }
   ],
   "source": [
    "from gensim.models import Word2Vec\n",
    "# define training data\n",
    "sentences = [['this','product','is', 'good', 'and', 'i','like','this','very','much'],['this', 'product', 'is', 'nice'],\n",
    "['i', 'hate', 'this','product'],['the', 'phone', 'works','well'],['i', 'dislike', 'this', 'phone']]\n",
    "# train model\n",
    "model = Word2Vec(sentences, min_count=1, vector_size=2)\n",
    "# summarize vocabulary\n",
    "words = list(model.wv.get_vector('like'))\n",
    "print(words)\n"
   ]
  },
  {
   "cell_type": "code",
   "execution_count": 36,
   "metadata": {},
   "outputs": [
    {
     "data": {
      "image/png": "[encoded data removed]",
      "text/plain": [
       "<Figure size 640x480 with 1 Axes>"
      ]
     },
     "metadata": {},
     "output_type": "display_data"
    }
   ],
   "source": [
    "from gensim.models import Word2Vec\n",
    "from sklearn.decomposition import PCA\n",
    "from matplotlib import pyplot\n",
    "# define training data\n",
    "sentences = [['this', 'product', 'is', 'good', 'and', 'i', 'like','this','very','much'],['this', 'product', 'is', 'nice'],\n",
    "['i', 'hate', 'this','product'],['the', 'phone', 'works','well'],['i', 'dislike', 'this', 'phone']]\n",
    "# train model\n",
    "model = Word2Vec(sentences, min_count=1,vector_size=50)\n",
    "# fit a 2d PCA model to the vectors\n",
    "X = model.wv.vectors\n",
    "pca = PCA(n_components=2)\n",
    "result = pca.fit_transform(X)\n",
    "# create a scatter plot of the projection\n",
    "pyplot.scatter(result[:, 0], result[:, 1])\n",
    "words = list(model.wv.index_to_key)\n",
    "for i, word in enumerate(words):\n",
    "    pyplot.annotate(word, xy=(result[i, 0], result[i, 1]))\n",
    "pyplot.show()"
   ]
  },
  {
   "cell_type": "code",
   "execution_count": 40,
   "metadata": {},
   "outputs": [],
   "source": [
    "import gensim.downloader as api\n",
    "\n",
    "# Min 12 GB is required\n",
    "wv = api.load('word2vec-google-news-300')\n",
    "\n",
    "vec_king = wv['king']\n",
    "\n",
    "# USE ABOVE CODE or download the file seperatly and run below code\n",
    "\n",
    "# from gensim.models import KeyedVectors\n",
    "# # load the google word2vec model\n",
    "# filename = 'GoogleNews-vectors-negative300.bin'\n",
    "# model = KeyedVectors.load_word2vec_format(filename, binary=True)\n",
    "# # calculate: (king - man) + woman = ?\n",
    "# result = model.most_similar('king')\n",
    "# print(result)"
   ]
  },
  {
   "cell_type": "code",
   "execution_count": 42,
   "metadata": {},
   "outputs": [
    {
     "name": "stdout",
     "output_type": "stream",
     "text": [
      "[('fantastic', 0.8700374364852905), ('good', 0.8614758253097534), ('excellent', 0.8232446908950806), ('perfect', 0.8180364966392517), ('awesome', 0.8098085522651672), ('wonderful', 0.8055000901222229), ('nice', 0.7718616127967834), ('amazing', 0.7717590928077698), ('decent', 0.7592840194702148), ('ok', 0.7441394925117493)]\n"
     ]
    }
   ],
   "source": [
    "import pandas as pd\n",
    "from gensim.models import Word2Vec\n",
    "import gensim\n",
    "data=pd.read_csv('AmazonMobileDataCleanedFinal.csv')\n",
    "sentence_list=[]\n",
    "for sent in data['cleanedtext']:\n",
    "    sentence_list.append(sent.split(' '))\n",
    "w2v_model= gensim.models.Word2Vec(sentence_list,min_count=1,vector_size=50)\n",
    "print(w2v_model.wv.most_similar('great'))"
   ]
  },
  {
   "cell_type": "code",
   "execution_count": 43,
   "metadata": {},
   "outputs": [
    {
     "name": "stdout",
     "output_type": "stream",
     "text": [
      "[('boost', 0.8067173957824707), ('virgin', 0.778242290019989), ('cellular', 0.7365037798881531), ('cricket', 0.7245219945907593), ('verizons', 0.7231782674789429), ('atts', 0.7222406268119812), ('prepaid', 0.7204118967056274), ('ting', 0.7199416160583496), ('towers', 0.7190907597541809), ('net', 0.713761031627655)]\n"
     ]
    }
   ],
   "source": [
    "print(w2v_model.wv.most_similar('mobile'))"
   ]
  },
  {
   "cell_type": "code",
   "execution_count": 45,
   "metadata": {},
   "outputs": [
    {
     "name": "stdout",
     "output_type": "stream",
     "text": [
      "5\n",
      "[array([-0.06579776, -0.01569375]), array([-0.09429042, -0.06967441]), array([-0.16277736, -0.09150594]), array([-0.00076652,  0.1837862 ]), array([0.23007276, 0.20856074])]\n"
     ]
    }
   ],
   "source": [
    "#https://medium.com/@ranasinghiitkgp/featurization-of-text-data-bow-tf-idf-avgw2v-tfidf-weighted-w2v-7a6c62e8b097\n",
    "#average word to vec\n",
    "import numpy as np\n",
    "from gensim.models import Word2Vec\n",
    "sentences = [['this','product','is', 'good', 'and', 'i','like','this','very','much'],['this', 'product', 'is', 'nice'],\n",
    "['i', 'hate', 'this','product'],['the', 'phone', 'works','well'],['i', 'dislike', 'this', 'phone']]\n",
    "model = Word2Vec(sentences, min_count=1,vector_size=2)\n",
    "sent_vectors = []; \n",
    "for sent in (sentences): \n",
    "    sent_vec = np.zeros(2) \n",
    "    cnt_words =0; \n",
    "    for word in sent: \n",
    "        if word in model.wv:\n",
    "            vec = model.wv[word]\n",
    "            sent_vec += vec\n",
    "            cnt_words += 1\n",
    "    if cnt_words != 0:\n",
    "        sent_vec /= cnt_words\n",
    "    sent_vectors.append(sent_vec)\n",
    "print(len(sent_vectors))\n",
    "print(sent_vectors)\n"
   ]
  },
  {
   "cell_type": "code",
   "execution_count": 50,
   "metadata": {},
   "outputs": [
    {
     "name": "stdout",
     "output_type": "stream",
     "text": [
      "[array([-0.02672235,  0.01191998], dtype=float32), array([0.2551164 , 0.45050988], dtype=float32), array([-0.4651475 , -0.35584044], dtype=float32), array([0.32301816, 0.44869745], dtype=float32), array([-0.2508444 , -0.18822335], dtype=float32), array([ 0.36905837, -0.07666647], dtype=float32), array([-0.22674984,  0.32787627], dtype=float32), array([-0.24300802, -0.09080088], dtype=float32), array([0.14382899, 0.04959369], dtype=float32), array([-0.41426075, -0.4724409 ], dtype=float32), array([0.36546597, 0.2534213 ], dtype=float32)]\n",
      "['affordable' 'and' 'best' 'cheap' 'fine' 'good' 'is' 'mobile' 'not'\n",
      " 'this' 'works']\n",
      "[-0.4651475  -0.35584044]\n",
      "[-0.02672235  0.01191998]\n",
      "[0.2551164  0.45050988]\n",
      "[-0.2508444  -0.18822335]\n",
      "[-0.4651475  -0.35584044]\n",
      "[-0.02672235  0.01191998]\n",
      "[0.2551164  0.45050988]\n",
      "[0.36546597 0.2534213 ]\n",
      "[-0.2508444  -0.18822335]\n",
      "[-0.4651475  -0.35584044]\n",
      "[-0.02672235  0.01191998]\n",
      "[-0.41426075 -0.4724409 ]\n",
      "[0.14382899 0.04959369]\n",
      "[0.32301816 0.44869745]\n",
      "[-0.24300802 -0.09080088]\n",
      "[-0.02672235  0.01191998]\n",
      "[0.2551164  0.45050988]\n",
      "[-0.22674984  0.32787627]\n",
      "[0.32301816 0.44869745]\n",
      "[-0.02672235  0.01191998]\n",
      "[0.2551164  0.45050988]\n",
      "[ 0.36905837 -0.07666647]\n",
      "4\n",
      "[array([-0.13366706, -0.03160275]), array([0.0054902 , 0.04786137]), array([-0.11510689, -0.07695157]), array([0.13360619, 0.2396131 ])]\n"
     ]
    }
   ],
   "source": [
    "#TFIDF word2vec\n",
    "import numpy as np\n",
    "from sklearn.feature_extraction.text import TfidfVectorizer\n",
    "from gensim.models import Word2Vec\n",
    "\n",
    "data=pd.read_csv('data.csv')\n",
    "sentences=[]\n",
    "for sent in data['test'].values:\n",
    "    senten= ' '.join(e for e in sent.split())\n",
    "    sentences.append(senten.lower().strip())\n",
    "\n",
    "sentence_list=[]\n",
    "for sent in sentences:\n",
    "    sentence_list.append(sent.split(' '))\n",
    "\n",
    "model = Word2Vec(sentence_list, min_count=1,vector_size=2)\n",
    "tfidf = TfidfVectorizer()\n",
    "tfidf.fit(sentences)\n",
    "\n",
    "dictionary = dict(zip(tfidf.get_feature_names_out(), list(tfidf.idf_)))\n",
    "\n",
    "\n",
    "tfidf_feat = tfidf.get_feature_names_out() \n",
    "w2v_feat=list(model.wv.vectors)\n",
    "print(w2v_feat)\n",
    "print(tfidf_feat)\n",
    "\n",
    "row=0\n",
    "tfidf_sent_vectors = []; \n",
    "for sent in (sentence_list): \n",
    "    sent_vec = np.zeros(2) \n",
    "    weight_sum =0; \n",
    "    for word in sent: \n",
    "        if word in model.wv and word in tfidf_feat:\n",
    "            vec = model.wv[word]\n",
    "            print(vec)\n",
    "            # tf_idf = tf_idf_matrix[row, tfidf_feat.index(word)]\n",
    "            # to reduce the computation we are \n",
    "            # dictionary[word] = idf value of word in whole courpus\n",
    "            # sent.count(word) = tf valeus of word in this review\n",
    "            tf_idf = dictionary[word]*(sent.count(word)/len(sent))\n",
    "            sent_vec += (vec * tf_idf)\n",
    "            weight_sum += tf_idf\n",
    "    if weight_sum != 0:\n",
    "        sent_vec /= weight_sum\n",
    "    tfidf_sent_vectors.append(sent_vec)\n",
    "    row += 1\n",
    "print(row)\n",
    "print(tfidf_sent_vectors)"
   ]
  },
  {
   "cell_type": "code",
   "execution_count": null,
   "metadata": {},
   "outputs": [],
   "source": []
  }
 ],
 "metadata": {
  "kernelspec": {
   "display_name": "anacenv",
   "language": "python",
   "name": "python3"
  },
  "language_info": {
   "codemirror_mode": {
    "name": "ipython",
    "version": 3
   },
   "file_extension": ".py",
   "mimetype": "text/x-python",
   "name": "python",
   "nbconvert_exporter": "python",
   "pygments_lexer": "ipython3",
   "version": "3.9.6"
  }
 },
 "nbformat": 4,
 "nbformat_minor": 2
}
