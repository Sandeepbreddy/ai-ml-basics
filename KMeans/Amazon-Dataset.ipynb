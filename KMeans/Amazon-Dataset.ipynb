{
 "cells": [
  {
   "cell_type": "code",
   "execution_count": 1,
   "metadata": {},
   "outputs": [],
   "source": [
    "import pandas as pd\n",
    "import re\n",
    "from nltk.corpus import stopwords\n",
    "import string\n",
    "from nltk.stem.snowball import SnowballStemmer"
   ]
  },
  {
   "cell_type": "code",
   "execution_count": 2,
   "metadata": {},
   "outputs": [
    {
     "name": "stdout",
     "output_type": "stream",
     "text": [
      "(71922, 2)\n"
     ]
    }
   ],
   "source": [
    "# Reading the data file into a DATAFRAME and checking the shape \n",
    "data=pd.read_csv('AmazonMobileDataUncleaned.csv')\n",
    "print(data.shape)"
   ]
  },
  {
   "cell_type": "code",
   "execution_count": 3,
   "metadata": {},
   "outputs": [
    {
     "name": "stdout",
     "output_type": "stream",
     "text": [
      "{\"i'm\", \"shan't\", 'through', 'was', 'each', \"i've\", 'more', \"hadn't\", 're', 'shan', 'in', 'up', \"they'll\", \"they're\", \"you're\", 'be', 'don', 'over', \"i'll\", 'so', 'at', 'further', 'we', 'weren', 'the', 'whom', 'why', 'him', 'am', 'd', 'with', 'again', \"she'd\", \"aren't\", 'theirs', 'they', 'very', \"you'll\", 'down', 'then', \"you've\", 'herself', 'ourselves', 'mightn', 'no', \"mustn't\", 'ours', 'during', 'it', 'did', 'which', 'isn', \"we've\", 'few', 'that', 'has', 'hasn', 'does', 'when', \"it'd\", 'myself', \"he'd\", 'because', 'i', 'were', 'before', 'ain', \"i'd\", 'under', 't', 'yourselves', 'against', 'after', 'but', 'our', 'her', 'such', 'other', 'a', 'about', 'where', 'most', 'll', 'been', 'having', 'didn', \"isn't\", 'until', \"he'll\", \"should've\", 'for', 'this', \"doesn't\", 'm', 'how', 'an', 'yours', 'itself', \"wasn't\", 'now', 'what', 'not', 'o', \"won't\", \"it's\", 'hers', 'than', 'off', 'me', 'is', 'won', 'y', 'wouldn', 'being', 'these', \"you'd\", 'once', 'there', \"haven't\", 'your', 'out', 'himself', \"we'll\", 'my', 'themselves', 'on', 'haven', 'own', 'their', 'only', \"she'll\", \"it'll\", 'ma', 've', 'to', \"that'll\", 'who', \"he's\", \"couldn't\", 'above', 'yourself', 'between', 'nor', 'she', 'wasn', 'same', 'aren', 'shouldn', \"they'd\", 'can', 'while', \"wouldn't\", 'any', 'just', 'as', 'both', \"they've\", \"we're\", \"she's\", 'couldn', 'his', 'those', 'he', 'should', 'do', 'or', \"don't\", 'needn', \"mightn't\", \"we'd\", 'doing', 'its', \"hasn't\", 'you', 'will', 'them', \"didn't\", 'by', 'if', 'and', \"weren't\", 'are', 'from', \"shouldn't\", 'of', 'some', 'into', 's', 'had', 'below', 'too', 'doesn', 'mustn', \"needn't\", 'have', 'here', 'all', 'hadn'}\n"
     ]
    },
    {
     "name": "stderr",
     "output_type": "stream",
     "text": [
      "/var/folders/0p/wyfyjj_94yv7kd73x6j_gc9c0000gn/T/ipykernel_12436/3623132011.py:50: FutureWarning: Downcasting behavior in `replace` is deprecated and will be removed in a future version. To retain the old behavior, explicitly call `result.infer_objects(copy=False)`. To opt-in to the future behavior, set `pd.set_option('future.no_silent_downcasting', True)`\n",
      "  data['decision']= data['decision'].replace('negative',0)\n"
     ]
    }
   ],
   "source": [
    "def datapreprocess(sen):\n",
    "    \n",
    "    sen = re.sub(r\"didn't\", \"did not\", sen)\n",
    "    sen = re.sub(r\"don't\", \"do not\", sen)\n",
    "    sen = re.sub(r\"won't\", \"will not\", sen)\n",
    "    sen = re.sub(r\"can't\", \"can not\", sen)\n",
    "    sen = re.sub(r\"wasn't\", \"do not\", sen)\n",
    "    sen = re.sub(r\"\\'ve\", \" have\", sen)\n",
    "    sen = re.sub(r\"\\'m\", \" am\", sen)\n",
    "    sen = re.sub(r\"\\'ll\", \" will\", sen)\n",
    "    sen = re.sub(r\"\\'re\", \" are\", sen)\n",
    "    sen = re.sub(r\"\\'s\", \" is\", sen)\n",
    "    sen = re.sub(r\"\\'d\", \" would\", sen)\n",
    "    sen = re.sub(r\"\\'t\", \" not\", sen)\n",
    "    sen = re.sub(r\"\\'m\", \" am\", sen)\n",
    "    sen = re.sub(r\"n\\'t\", \" not\", sen)\n",
    "    \n",
    "    p = set(string.punctuation) # p take all the punctuations, punctuations displayed below\n",
    "    sen=sen.lower() # convert text to lower case\n",
    "    words=sen.split() # split the text into words\n",
    "    ctext=[]\n",
    "    for i in range(10): #adding numbers from 0 - 9 to p \n",
    "        p.add(str(i))\n",
    "    for i in words:\n",
    "        t=''.join([x for x in i.encode(\"ascii\",\"ignore\").decode(\"ascii\") if x not in p]) # ignoring non ascii charecters and numbers\n",
    "        ctext.append(t)\n",
    "    return \" \".join([i for i in ctext]) # joining the cleaned words to text\n",
    "    \n",
    "    \n",
    "\n",
    "stop=set(stopwords.words('english'))\n",
    "print(stop)\n",
    "stop.remove('no')\n",
    "stop.remove('not')\n",
    "stop.remove('nor')\n",
    "\n",
    "preprocessed_essays = []\n",
    "for sentance in data['uncleanedreview'].values:\n",
    "    try:\n",
    "        ctxt=datapreprocess(str(sentance))\n",
    "        if len(ctxt)==0: raise()\n",
    "        ctxt = ' '.join(e for e in ctxt.split() if e not in stop)\n",
    "        preprocessed_essays.append(ctxt.lower().strip())\n",
    "    except:\n",
    "        preprocessed_essays.append(\"NAN\")  \n",
    "data['cleanedtext'] = preprocessed_essays\n",
    "data.drop(data[data[\"cleanedtext\"]==\"NAN\"].index,axis = 0,inplace = True) # deleting rows that have no text \n",
    "data=data.reset_index(drop='true') # after deleting rows index should be reset\n",
    "data['decision']= data['decision'].replace('positive',1)\n",
    "data['decision']= data['decision'].replace('negative',0)\n",
    "\n",
    "\n",
    "s = SnowballStemmer(\"english\")\n",
    "p=[]\n",
    "for i in data['cleanedtext'].values:\n",
    "    k=[]\n",
    "    for word in i.split():\n",
    "        k.append(s.stem(word))\n",
    "    l=' '.join(k)\n",
    "    p.append(l)\n",
    "\n",
    "data['j']=p\n",
    "\n",
    "data.to_csv (r'AmazonMobileDataCleaned.csv')"
   ]
  },
  {
   "cell_type": "code",
   "execution_count": 4,
   "metadata": {},
   "outputs": [
    {
     "name": "stdout",
     "output_type": "stream",
     "text": [
      "(5000, 5)\n",
      "(5000,)\n",
      "(5000, 4)\n",
      "------------------------------\n",
      "(4000, 4)\n",
      "(1000, 4)\n",
      "(4000,)\n",
      "(1000,)\n"
     ]
    }
   ],
   "source": [
    "data=pd.read_csv('AmazonMobileDataCleaned.csv',nrows=5000)\n",
    "print(data.shape)\n",
    "label = data['decision'].values\n",
    "feedback = data.drop(['decision'], axis=1)\n",
    "print(label.shape)\n",
    "print(feedback.shape)\n",
    "print(\"------------------------------\")\n",
    "\n",
    "from sklearn.model_selection import train_test_split\n",
    "inputtrain, inputtest, outputtrain, outputtest = train_test_split(feedback, label, test_size=0.20, stratify=label)\n",
    "print(inputtrain.shape)\n",
    "print(inputtest.shape)\n",
    "print(outputtrain.shape)\n",
    "print(outputtest.shape)"
   ]
  },
  {
   "cell_type": "code",
   "execution_count": 5,
   "metadata": {},
   "outputs": [
    {
     "name": "stdout",
     "output_type": "stream",
     "text": [
      "After vectorizations\n",
      "(4000, 2812)\n",
      "(1000, 2812)\n",
      "(4000,)\n",
      "(1000,)\n",
      "...............................\n"
     ]
    }
   ],
   "source": [
    "# convert into Bag of Words\n",
    "from sklearn.feature_extraction.text import CountVectorizer\n",
    "featur = []\n",
    "vec = CountVectorizer(min_df=10,ngram_range=(1,4))\n",
    "vec.fit(inputtrain['j'].values) # fit has to happen only on train data\n",
    "\n",
    "\n",
    "train_cleanedtext = vec.transform(inputtrain['j'].values)\n",
    "test_cleanedtext= vec.transform(inputtest['j'].values)\n",
    "\n",
    "print(\"After vectorizations\")\n",
    "print(train_cleanedtext.shape)\n",
    "print(test_cleanedtext.shape)\n",
    "print(outputtrain.shape)\n",
    "print(outputtest.shape)\n",
    "print(\"...............................\")\n",
    "\n",
    "featur+=list(vec.get_feature_names_out())"
   ]
  },
  {
   "cell_type": "code",
   "execution_count": 6,
   "metadata": {},
   "outputs": [
    {
     "data": {
      "image/png": "[encoded data removed]",
      "text/plain": [
       "<Figure size 640x480 with 1 Axes>"
      ]
     },
     "metadata": {},
     "output_type": "display_data"
    }
   ],
   "source": [
    "from sklearn.cluster import KMeans\n",
    "import matplotlib.pyplot as plt\n",
    "k=[]\n",
    "iner=[]\n",
    "for i in range(1,10):\n",
    "    kmeans = KMeans(n_clusters=i).fit(train_cleanedtext)\n",
    "    iner.append(kmeans.inertia_)\n",
    "    k.append(i)\n",
    "plt.plot(k,iner, label='k value')\n",
    "\n",
    "plt.scatter(k,iner, label='loss value')\n",
    "\n",
    "\n",
    "plt.legend()\n",
    "plt.xlabel(\" K Value\")\n",
    "plt.ylabel(\"Loss Value\")\n",
    "plt.title(\"elbow knee method\")\n",
    "plt.grid()\n",
    "plt.show()"
   ]
  },
  {
   "cell_type": "code",
   "execution_count": 7,
   "metadata": {},
   "outputs": [
    {
     "name": "stdout",
     "output_type": "stream",
     "text": [
      "noofclusters = 2 The average silhouette_score is : 0.6142631916678482\n",
      "noofclusters = 3 The average silhouette_score is : 0.4587289480000591\n",
      "noofclusters = 4 The average silhouette_score is : 0.3005503052668893\n",
      "noofclusters = 5 The average silhouette_score is : 0.3699658753508893\n",
      "noofclusters = 6 The average silhouette_score is : 0.3484768700866896\n",
      "noofclusters = 7 The average silhouette_score is : 0.22997889088519463\n",
      "noofclusters = 8 The average silhouette_score is : 0.3015899854182705\n"
     ]
    }
   ],
   "source": [
    "from sklearn.cluster import KMeans\n",
    "from sklearn.metrics import silhouette_samples, silhouette_score\n",
    "\n",
    "\n",
    "noofclusters = [2, 3,4,5,6,7,8]\n",
    "\n",
    "for clusters in noofclusters:\n",
    "    \n",
    "    clust = KMeans(n_clusters=clusters)\n",
    "    cluster_labels = clust.fit_predict(train_cleanedtext)\n",
    "\n",
    "    \n",
    "    silhouette_avg = silhouette_score(train_cleanedtext, cluster_labels)\n",
    "    print(\"noofclusters =\", clusters,\n",
    "          \"The average silhouette_score is :\", silhouette_avg)\n"
   ]
  },
  {
   "cell_type": "code",
   "execution_count": 11,
   "metadata": {},
   "outputs": [
    {
     "name": "stdout",
     "output_type": "stream",
     "text": [
      "[1 1 1 ... 1 1 1]\n"
     ]
    }
   ],
   "source": [
    "kmeans = KMeans(n_clusters=2).fit(train_cleanedtext)\n",
    "x=kmeans.labels_\n",
    "print(x)"
   ]
  },
  {
   "cell_type": "code",
   "execution_count": 12,
   "metadata": {},
   "outputs": [
    {
     "name": "stdout",
     "output_type": "stream",
     "text": [
      "[0 0 7 2 0 0 2 7 0 2 0 0 0 0 0 0 0 0 4 0 2 0 0 6 0 0 6 0 0 2 2 0 0 0 0 0 4\n",
      " 2 0 0 0 0 6 0 0 0 0 0 2 0 0 0 2 2 2 0 6 0 2 2 6 0 8 0 0 0 0 0 8 0 0 0 0 0\n",
      " 0 0 0 2 2 2 0 0 2 0 7 3 0 0 7 0 0 0 3 2 0 0 2 0 0 0 0 0 6 0 0 0 2 0 0 0 0\n",
      " 2 3 2 0 0 0 0 0 2 0 0 6 0 0 0 0 6 0 0 2 3 0 0 0 0 0 0 2 2 0 8 0 0 3 0 0 0\n",
      " 2 0 0 2 6 2 6 0 0 0 2 0 0 0 2 0 2 0 2 2 0 0 0 7 0 0 6 2 0 0 0 0 0 0 0 0 0\n",
      " 0 0 0 0 0 2 2 2 0 4 0 0 7 0 2 0 0 0 0 2 0 0 2 0 2 0 0 7 0 0 0 0 0 0 0 6 3\n",
      " 0 6 0 2 0 0 0 6 0 0 0 0 0 0 0 2 0 2 2 0 0 2 0 0 2 0 0 2 0 0 0 2 2 7 0 0 2\n",
      " 0 6 2 0 0 4 0 7 0 8 2 2 0 0 6 2 0 2 0 0 0 2 7 2 0 0 2 6 8 6 2 2 0 0 0 0 2\n",
      " 6 0 2 0 2 2 0 0 0 0 0 2 0 0 0 2 0 0 0 2 0 6 2 8 0 0 0 2 2 0 0 7 2 0 2 0 0\n",
      " 0 7 0 0 7 0 2 0 0 0 2 2 0 2 2 8 2 0 2 0 0 0 0 0 0 7 0 0 0 0 0 0 6 2 6 0 0\n",
      " 0 0 0 2 0 2 0 0 0 8 1 0 2 0 0 0 2 6 0 0 0 0 0 0 7 0 0 0 0 0 0 4 2 6 0 0 2\n",
      " 3 2 2 0 0 7 7 0 6 0 0 2 0 2 0 0 6 0 7 2 0 0 0 0 0 7 0 2 2 0 0 0 0 0 0 2 0\n",
      " 0 2 6 2 2 2 0 4 2 0 2 0 0 7 3 8 2 0 6 0 7 0 0 0 0 3 0 2 8 7 0 0 2 0 0 0 2\n",
      " 2 0 2 7 2 2 0 2 0 0 0 7 0 3 2 0 0 0 0 2 0 0 0 0 0 0 2 2 2 2 0 2 0 0 0 6 0\n",
      " 2 2 5 0 0 7 0 0 0 7 0 0 6 0 0 0 6 2 0 2 7 0 0 2 2 0 0 0 0 0 0 6 0 0 0 2 0\n",
      " 6 0 7 0 0 0 2 0 2 0 7 0 2 2 0 6 0 0 2 0 0 0 2 0 0 0 0 0 0 2 0 0 0 0 0 0 7\n",
      " 0 0 2 0 0 0 0 7 0 0 4 0 0 0 0 0 7 0 0 0 0 0 0 0 2 0 6 0 0 0 2 0 2 6 2 2 0\n",
      " 2 0 2 2 2 2 0 2 7 0 0 0 0 4 2 6 0 2 8 2 0 2 6 2 0 8 8 0 0 7 2 6 0 0 2 6 2\n",
      " 2 6 2 0 0 0 2 2 0 2 0 0 2 0 0 0 7 0 0 0 2 0 7 0 7 0 0 0 0 0 5 0 0 0 0 0 6\n",
      " 0 2 0 0 0 2 0 2 2 0 0 0 0 6 0 0 0 0 2 0 0 0 0 0 2 0 2 0 2 6 0 6 2 0 2 0 6\n",
      " 8 0 0 0 0 0 0 0 0 0 0 0 0 0 0 0 2 0 8 0 6 2 2 2 0 0 6 0 0 0 0 0 7 2 2 6 0\n",
      " 0 2 2 2 0 0 6 7 0 2 0 0 0 2 8 2 6 2 0 0 0 2 6 6 0 4 0 0 0 0 0 0 7 6 0 0 8\n",
      " 0 0 2 0 0 0 7 0 0 2 0 6 0 0 0 0 0 2 2 4 2 2 0 0 3 2 0 0 0 0 0 0 2 2 0 6 2\n",
      " 0 0 0 7 0 0 2 0 0 0 6 6 0 0 0 0 0 2 2 0 0 0 0 0 0 0 0 0 6 2 0 4 0 0 6 0 0\n",
      " 0 0 0 2 2 6 2 0 0 0 0 0 0 0 0 2 0 2 0 0 2 0 2 2 2 2 6 0 6 0 0 7 0 0 0 0 4\n",
      " 0 2 0 2 7 0 0 7 2 0 0 0 8 0 0 0 0 0 0 0 2 0 2 0 0 0 7 0 0 0 2 0 0 2 6 4 2\n",
      " 0 0 0 0 0 0 0 0 0 0 0 7 0 0 7 2 2 2 0 0 0 0 6 6 2 2 7 2 0 2 6 6 0 0 2 0 0\n",
      " 7]\n"
     ]
    }
   ],
   "source": [
    "print(kmeans.predict(test_cleanedtext))"
   ]
  },
  {
   "cell_type": "code",
   "execution_count": null,
   "metadata": {},
   "outputs": [],
   "source": []
  }
 ],
 "metadata": {
  "kernelspec": {
   "display_name": "anacenv",
   "language": "python",
   "name": "python3"
  },
  "language_info": {
   "codemirror_mode": {
    "name": "ipython",
    "version": 3
   },
   "file_extension": ".py",
   "mimetype": "text/x-python",
   "name": "python",
   "nbconvert_exporter": "python",
   "pygments_lexer": "ipython3",
   "version": "3.9.6"
  }
 },
 "nbformat": 4,
 "nbformat_minor": 2
}
